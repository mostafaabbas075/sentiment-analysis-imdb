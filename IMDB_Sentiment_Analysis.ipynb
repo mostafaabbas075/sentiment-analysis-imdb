{
  "nbformat": 4,
  "nbformat_minor": 0,
  "metadata": {
    "colab": {
      "provenance": []
    },
    "kernelspec": {
      "name": "python3",
      "display_name": "Python 3"
    },
    "language_info": {
      "name": "python"
    }
  },
  "cells": [
    {
      "cell_type": "code",
      "execution_count": 1,
      "metadata": {
        "colab": {
          "base_uri": "https://localhost:8080/"
        },
        "id": "h0CV1Di-1hvS",
        "outputId": "2e434ea5-cb91-4bc6-f9fb-f19010673b5a"
      },
      "outputs": [
        {
          "output_type": "stream",
          "name": "stderr",
          "text": [
            "[nltk_data] Downloading package punkt to /root/nltk_data...\n",
            "[nltk_data]   Unzipping tokenizers/punkt.zip.\n",
            "[nltk_data] Downloading package punkt_tab to /root/nltk_data...\n",
            "[nltk_data]   Unzipping tokenizers/punkt_tab.zip.\n",
            "[nltk_data] Downloading package stopwords to /root/nltk_data...\n",
            "[nltk_data]   Unzipping corpora/stopwords.zip.\n"
          ]
        },
        {
          "output_type": "execute_result",
          "data": {
            "text/plain": [
              "True"
            ]
          },
          "metadata": {},
          "execution_count": 1
        }
      ],
      "source": [
        "# Import libraries for data handling\n",
        "import pandas as pd\n",
        "from google.colab import drive\n",
        "\n",
        "# Import libraries for text preprocessing\n",
        "import re\n",
        "import nltk\n",
        "from nltk.corpus import stopwords\n",
        "from nltk.tokenize import word_tokenize\n",
        "\n",
        "# Import libraries for vectorization and modeling\n",
        "from sklearn.feature_extraction.text import TfidfVectorizer\n",
        "from sklearn.model_selection import train_test_split\n",
        "from sklearn.linear_model import LogisticRegression\n",
        "from sklearn.naive_bayes import MultinomialNB\n",
        "from sklearn.metrics import accuracy_score, f1_score\n",
        "\n",
        "# Import libraries for word frequency analysis and visualization\n",
        "from collections import Counter\n",
        "import matplotlib.pyplot as plt\n",
        "\n",
        "# Download required NLTK resources\n",
        "nltk.download('punkt')\n",
        "nltk.download('punkt_tab')  # Added to fix LookupError\n",
        "nltk.download('stopwords')"
      ]
    },
    {
      "cell_type": "code",
      "source": [
        "# Define DataLoader class for loading the dataset\n",
        "class DataLoader:\n",
        "    def __init__(self, file_path):\n",
        "        \"\"\"\n",
        "        Initialize DataLoader with the path to the CSV file.\n",
        "\n",
        "        Args:\n",
        "            file_path (str): Path to the CSV file in Google Drive\n",
        "        \"\"\"\n",
        "        self.file_path = file_path\n",
        "        self.data = None\n",
        "\n",
        "    def load_data(self):\n",
        "        \"\"\"\n",
        "        Load the IMDB dataset from Google Drive and return as DataFrame.\n",
        "\n",
        "        Returns:\n",
        "            pandas.DataFrame: Loaded dataset\n",
        "        \"\"\"\n",
        "        # Mount Google Drive\n",
        "        drive.mount('/content/drive', force_remount=True)\n",
        "\n",
        "        # Load CSV file\n",
        "        self.data = pd.read_csv(self.file_path)\n",
        "\n",
        "        # Display sample of the data\n",
        "        print(\"Sample of the dataset:\")\n",
        "        print(self.data.head())\n",
        "\n",
        "        # Display dataset info\n",
        "        print(\"\\nDataset Info:\")\n",
        "        print(self.data.info())\n",
        "\n",
        "        return self.data\n",
        "\n",
        "# Instantiate DataLoader and load the dataset\n",
        "file_path = \"/content/drive/MyDrive/Elevvo_Pathway/IMDB Dataset.csv\"\n",
        "data_loader = DataLoader(file_path)\n",
        "data = data_loader.load_data()"
      ],
      "metadata": {
        "colab": {
          "base_uri": "https://localhost:8080/"
        },
        "id": "2PxRRxc6AidE",
        "outputId": "f8f17510-dd44-451b-9362-f3d2c1059244"
      },
      "execution_count": 2,
      "outputs": [
        {
          "output_type": "stream",
          "name": "stdout",
          "text": [
            "Mounted at /content/drive\n",
            "Sample of the dataset:\n",
            "                                              review sentiment\n",
            "0  One of the other reviewers has mentioned that ...  positive\n",
            "1  A wonderful little production. <br /><br />The...  positive\n",
            "2  I thought this was a wonderful way to spend ti...  positive\n",
            "3  Basically there's a family where a little boy ...  negative\n",
            "4  Petter Mattei's \"Love in the Time of Money\" is...  positive\n",
            "\n",
            "Dataset Info:\n",
            "<class 'pandas.core.frame.DataFrame'>\n",
            "RangeIndex: 50000 entries, 0 to 49999\n",
            "Data columns (total 2 columns):\n",
            " #   Column     Non-Null Count  Dtype \n",
            "---  ------     --------------  ----- \n",
            " 0   review     50000 non-null  object\n",
            " 1   sentiment  50000 non-null  object\n",
            "dtypes: object(2)\n",
            "memory usage: 781.4+ KB\n",
            "None\n"
          ]
        }
      ]
    },
    {
      "cell_type": "code",
      "source": [
        "# Define TextPreprocessor class for cleaning text data\n",
        "class TextPreprocessor:\n",
        "    def __init__(self):\n",
        "        \"\"\"\n",
        "        Initialize TextPreprocessor with NLTK stop words.\n",
        "        \"\"\"\n",
        "        self.stop_words = set(stopwords.words('english'))\n",
        "\n",
        "    def clean_text(self, text):\n",
        "        \"\"\"\n",
        "        Clean a single text string by applying preprocessing steps.\n",
        "\n",
        "        Args:\n",
        "            text (str): Input text to clean\n",
        "\n",
        "        Returns:\n",
        "            str: Cleaned text\n",
        "        \"\"\"\n",
        "        # Convert to lowercase\n",
        "        text = text.lower()\n",
        "        # Remove punctuation and numbers\n",
        "        text = re.sub(r'[^\\w\\s]', '', text)\n",
        "        text = re.sub(r'\\d+', '', text)\n",
        "        # Tokenize text\n",
        "        words = word_tokenize(text)\n",
        "        # Remove stop words\n",
        "        words = [word for word in words if word not in self.stop_words]\n",
        "        # Join words back into a string\n",
        "        return ' '.join(words)\n",
        "\n",
        "    def preprocess(self, texts):\n",
        "        \"\"\"\n",
        "        Preprocess a list of texts.\n",
        "\n",
        "        Args:\n",
        "            texts (list): List of text strings to preprocess\n",
        "\n",
        "        Returns:\n",
        "            list: List of cleaned text strings\n",
        "        \"\"\"\n",
        "        return [self.clean_text(text) for text in texts]\n",
        "\n",
        "# Instantiate TextPreprocessor\n",
        "preprocessor = TextPreprocessor()\n",
        "\n",
        "# Apply preprocessing to the 'review' column and add a new column 'processed_text'\n",
        "data['processed_text'] = preprocessor.preprocess(data['review'])\n",
        "\n",
        "# Display sample of the dataset with the new column\n",
        "print(\"Sample of the dataset with processed text:\")\n",
        "print(data[['review', 'processed_text', 'sentiment']].head())"
      ],
      "metadata": {
        "colab": {
          "base_uri": "https://localhost:8080/"
        },
        "id": "hq9KsvTg5EaS",
        "outputId": "e8e423dd-57e0-4d96-a3d8-ca753c3b9117"
      },
      "execution_count": 3,
      "outputs": [
        {
          "output_type": "stream",
          "name": "stdout",
          "text": [
            "Sample of the dataset with processed text:\n",
            "                                              review  \\\n",
            "0  One of the other reviewers has mentioned that ...   \n",
            "1  A wonderful little production. <br /><br />The...   \n",
            "2  I thought this was a wonderful way to spend ti...   \n",
            "3  Basically there's a family where a little boy ...   \n",
            "4  Petter Mattei's \"Love in the Time of Money\" is...   \n",
            "\n",
            "                                      processed_text sentiment  \n",
            "0  one reviewers mentioned watching oz episode yo...  positive  \n",
            "1  wonderful little production br br filming tech...  positive  \n",
            "2  thought wonderful way spend time hot summer we...  positive  \n",
            "3  basically theres family little boy jake thinks...  negative  \n",
            "4  petter matteis love time money visually stunni...  positive  \n"
          ]
        }
      ]
    },
    {
      "cell_type": "code",
      "source": [
        "# Define SentimentAnalyzer class for vectorization and model training\n",
        "class SentimentAnalyzer:\n",
        "    def __init__(self):\n",
        "        \"\"\"\n",
        "        Initialize SentimentAnalyzer with TF-IDF vectorizer and classifiers.\n",
        "        \"\"\"\n",
        "        self.vectorizer = TfidfVectorizer(max_features=5000)\n",
        "        self.logistic_model = LogisticRegression(max_iter=1000)\n",
        "        self.naive_bayes_model = MultinomialNB()\n",
        "        self.X_train_tfidf = None\n",
        "        self.X_test_tfidf = None\n",
        "        self.y_train = None\n",
        "        self.y_test = None\n",
        "\n",
        "    def prepare_data(self, texts, labels):\n",
        "        \"\"\"\n",
        "        Prepare data by converting texts to TF-IDF and splitting into train/test sets.\n",
        "\n",
        "        Args:\n",
        "            texts (list): List of preprocessed texts\n",
        "            labels (list): List of sentiment labels\n",
        "        \"\"\"\n",
        "        # Convert labels to binary (positive=1, negative=0)\n",
        "        labels = [1 if label == 'positive' else 0 for label in labels]\n",
        "\n",
        "        # Convert texts to TF-IDF features\n",
        "        self.X_tfidf = self.vectorizer.fit_transform(texts)\n",
        "\n",
        "        # Split data into training and testing sets\n",
        "        self.X_train_tfidf, self.X_test_tfidf, self.y_train, self.y_test = train_test_split(\n",
        "            self.X_tfidf, labels, test_size=0.2, random_state=42\n",
        "        )\n",
        "\n",
        "    def train_models(self):\n",
        "        \"\"\"\n",
        "        Train Logistic Regression and Naive Bayes models.\n",
        "        \"\"\"\n",
        "        # Train Logistic Regression\n",
        "        self.logistic_model.fit(self.X_train_tfidf, self.y_train)\n",
        "        print(\"Logistic Regression model trained.\")\n",
        "\n",
        "        # Train Naive Bayes\n",
        "        self.naive_bayes_model.fit(self.X_train_tfidf, self.y_train)\n",
        "        print(\"Naive Bayes model trained.\")\n",
        "\n",
        "    def evaluate_models(self):\n",
        "        \"\"\"\n",
        "        Evaluate both models using Accuracy and F1-Score.\n",
        "\n",
        "        Returns:\n",
        "            dict: Evaluation metrics for both models\n",
        "        \"\"\"\n",
        "        # Logistic Regression predictions\n",
        "        lr_predictions = self.logistic_model.predict(self.X_test_tfidf)\n",
        "        lr_accuracy = accuracy_score(self.y_test, lr_predictions)\n",
        "        lr_f1 = f1_score(self.y_test, lr_predictions)\n",
        "\n",
        "        # Naive Bayes predictions\n",
        "        nb_predictions = self.naive_bayes_model.predict(self.X_test_tfidf)\n",
        "        nb_accuracy = accuracy_score(self.y_test, nb_predictions)\n",
        "        nb_f1 = f1_score(self.y_test, nb_predictions)\n",
        "\n",
        "        # Return evaluation metrics\n",
        "        metrics = {\n",
        "            'Logistic Regression': {'Accuracy': lr_accuracy, 'F1-Score': lr_f1},\n",
        "            'Naive Bayes': {'Accuracy': nb_accuracy, 'F1-Score': nb_f1}\n",
        "        }\n",
        "        return metrics\n",
        "\n",
        "\n",
        "    def predict_text(self, text, model=\"logistic\"):\n",
        "        \"\"\"\n",
        "        Predict sentiment for a single text input.\n",
        "\n",
        "        Args:\n",
        "            text (str): Raw text input\n",
        "            model (str): 'logistic' or 'naive'\n",
        "\n",
        "        Returns:\n",
        "            str: Predicted sentiment label\n",
        "        \"\"\"\n",
        "        # Clean text\n",
        "        cleaned = re.sub(r'<.*?>', '', text.lower())\n",
        "        cleaned = re.sub(r'[^a-z\\s]', '', cleaned)\n",
        "        cleaned = re.sub(r'\\s+', ' ', cleaned).strip()\n",
        "\n",
        "        # Vectorize\n",
        "        vec = self.vectorizer.transform([cleaned])\n",
        "\n",
        "        if model == \"logistic\":\n",
        "            pred = self.logistic_model.predict(vec)[0]\n",
        "        elif model == \"naive\":\n",
        "            pred = self.naive_bayes_model.predict(vec)[0]\n",
        "        else:\n",
        "            raise ValueError(\"Model must be 'logistic' or 'naive'\")\n",
        "\n",
        "        return \"Positive\" if pred == 1 else \"Negative\"\n",
        "\n",
        "\n",
        "    def show_confusion_matrix(self, model=\"logistic\"):\n",
        "        \"\"\"\n",
        "        Display confusion matrix for selected model.\n",
        "\n",
        "        Args:\n",
        "            model (str): 'logistic' or 'naive'\n",
        "        \"\"\"\n",
        "        from sklearn.metrics import confusion_matrix, ConfusionMatrixDisplay\n",
        "\n",
        "        if model == \"logistic\":\n",
        "            preds = self.logistic_model.predict(self.X_test_tfidf)\n",
        "        elif model == \"naive\":\n",
        "            preds = self.naive_bayes_model.predict(self.X_test_tfidf)\n",
        "        else:\n",
        "            raise ValueError(\"Model must be 'logistic' or 'naive'\")\n",
        "\n",
        "        cm = confusion_matrix(self.y_test, preds)\n",
        "        disp = ConfusionMatrixDisplay(confusion_matrix=cm, display_labels=[\"Negative\", \"Positive\"])\n",
        "        disp.plot(cmap=\"Blues\")\n",
        "\n",
        "\n",
        "\n",
        "# Instantiate SentimentAnalyzer\n",
        "analyzer = SentimentAnalyzer()\n",
        "\n",
        "# Prepare data (using processed_text and sentiment columns)\n",
        "analyzer.prepare_data(data['processed_text'], data['sentiment'])\n",
        "\n",
        "# Train both models\n",
        "analyzer.train_models()\n",
        "\n",
        "# Evaluate models and print results\n",
        "metrics = analyzer.evaluate_models()\n",
        "print(\"\\nModel Evaluation Results:\")\n",
        "for model, scores in metrics.items():\n",
        "    print(f\"{model}:\")\n",
        "    print(f\"  Accuracy: {scores['Accuracy']:.2f}\")\n",
        "    print(f\"  F1-Score: {scores['F1-Score']:.2f}\")"
      ],
      "metadata": {
        "colab": {
          "base_uri": "https://localhost:8080/"
        },
        "id": "zyF_cTgRB1Gj",
        "outputId": "8adbe5fb-834d-4785-a75a-d52453d4dc44"
      },
      "execution_count": 4,
      "outputs": [
        {
          "output_type": "stream",
          "name": "stdout",
          "text": [
            "Logistic Regression model trained.\n",
            "Naive Bayes model trained.\n",
            "\n",
            "Model Evaluation Results:\n",
            "Logistic Regression:\n",
            "  Accuracy: 0.89\n",
            "  F1-Score: 0.89\n",
            "Naive Bayes:\n",
            "  Accuracy: 0.85\n",
            "  F1-Score: 0.85\n"
          ]
        }
      ]
    },
    {
      "cell_type": "code",
      "source": [
        "# Predict sentiment of new text\n",
        "print(analyzer.predict_text(\"I hated this movie so much!\", model=\"naive\"))\n",
        "\n",
        "# Show confusion matrix for logistic regression\n",
        "analyzer.show_confusion_matrix(model=\"logistic\")\n"
      ],
      "metadata": {
        "colab": {
          "base_uri": "https://localhost:8080/",
          "height": 469
        },
        "id": "2dRSNsUMcV-f",
        "outputId": "41da58b5-d012-40c9-cfb3-8bda316dc9b1"
      },
      "execution_count": 5,
      "outputs": [
        {
          "output_type": "stream",
          "name": "stdout",
          "text": [
            "Negative\n"
          ]
        },
        {
          "output_type": "display_data",
          "data": {
            "text/plain": [
              "<Figure size 640x480 with 2 Axes>"
            ],
            "image/png": "[encoded data removed]"
          },
          "metadata": {}
        }
      ]
    },
    {
      "cell_type": "code",
      "source": [
        "# Define WordFrequencyAnalyzer class for analyzing frequent words\n",
        "class WordFrequencyAnalyzer:\n",
        "    def __init__(self):\n",
        "        \"\"\"\n",
        "        Initialize WordFrequencyAnalyzer.\n",
        "        \"\"\"\n",
        "        pass\n",
        "\n",
        "    def get_frequent_words(self, texts, labels, top_n=10):\n",
        "        \"\"\"\n",
        "        Get the most frequent words for positive and negative reviews.\n",
        "\n",
        "        Args:\n",
        "            texts (list): List of preprocessed texts\n",
        "            labels (list): List of sentiment labels\n",
        "            top_n (int): Number of top words to return\n",
        "\n",
        "        Returns:\n",
        "            tuple: (positive_words, negative_words) as dictionaries with word frequencies\n",
        "        \"\"\"\n",
        "        # Separate positive and negative texts\n",
        "        positive_texts = [text for text, label in zip(texts, labels) if label == 'positive']\n",
        "        negative_texts = [text for text, label in zip(texts, labels) if label == 'negative']\n",
        "\n",
        "        # Count words in positive texts\n",
        "        positive_words = Counter(' '.join(positive_texts).split())\n",
        "        positive_words = dict(positive_words.most_common(top_n))\n",
        "\n",
        "        # Count words in negative texts\n",
        "        negative_words = Counter(' '.join(negative_texts).split())\n",
        "        negative_words = dict(negative_words.most_common(top_n))\n",
        "\n",
        "        return positive_words, negative_words\n",
        "\n",
        "    def plot_frequent_words(self, positive_words, negative_words):\n",
        "        \"\"\"\n",
        "        Plot bar charts for frequent positive and negative words.\n",
        "\n",
        "        Args:\n",
        "            positive_words (dict): Dictionary of positive word frequencies\n",
        "            negative_words (dict): Dictionary of negative word frequencies\n",
        "        \"\"\"\n",
        "        # Set up the plotting area with two subplots\n",
        "        fig, (ax1, ax2) = plt.subplots(1, 2, figsize=(12, 5))\n",
        "\n",
        "        # Plot positive words\n",
        "        ax1.bar(positive_words.keys(), positive_words.values(), color='green')\n",
        "        ax1.set_title('Most Frequent Positive Words')\n",
        "        ax1.set_xlabel('Words')\n",
        "        ax1.set_ylabel('Frequency')\n",
        "        ax1.tick_params(axis='x', rotation=45)\n",
        "\n",
        "        # Plot negative words\n",
        "        ax2.bar(negative_words.keys(), negative_words.values(), color='red')\n",
        "        ax2.set_title('Most Frequent Negative Words')\n",
        "        ax2.set_xlabel('Words')\n",
        "        ax2.set_ylabel('Frequency')\n",
        "        ax2.tick_params(axis='x', rotation=45)\n",
        "\n",
        "        # Adjust layout and display the plot\n",
        "        plt.tight_layout()\n",
        "        plt.show()\n",
        "\n",
        "# Instantiate WordFrequencyAnalyzer\n",
        "word_analyzer = WordFrequencyAnalyzer()\n",
        "\n",
        "# Get frequent words for positive and negative reviews\n",
        "positive_words, negative_words = word_analyzer.get_frequent_words(data['processed_text'], data['sentiment'])\n",
        "\n",
        "# Plot the frequent words\n",
        "word_analyzer.plot_frequent_words(positive_words, negative_words)"
      ],
      "metadata": {
        "colab": {
          "base_uri": "https://localhost:8080/",
          "height": 507
        },
        "id": "qP6OB5tHB67T",
        "outputId": "402d6e4b-8c5e-475a-9f7e-4cfae0dd825d"
      },
      "execution_count": 6,
      "outputs": [
        {
          "output_type": "display_data",
          "data": {
            "text/plain": [
              "<Figure size 1200x500 with 2 Axes>"
            ],
            "image/png": "[encoded data removed]"
          },
          "metadata": {}
        }
      ]
    },
    {
      "cell_type": "code",
      "source": [],
      "metadata": {
        "id": "qGUQgJEoc4Zv"
      },
      "execution_count": null,
      "outputs": []
    }
  ]
}